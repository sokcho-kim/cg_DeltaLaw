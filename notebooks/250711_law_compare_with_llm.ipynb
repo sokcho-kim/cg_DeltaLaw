{
 "cells": [
  {
   "cell_type": "code",
   "execution_count": 1,
   "id": "1be28be0",
   "metadata": {},
   "outputs": [],
   "source": [
    "import pdfplumber\n",
    "\n",
    "def extract_metadata_first_page(pdf_path) -> dict:\n",
    "    \"\"\"\n",
    "    첫 페이지에서 법령명, 발의일, 발의자 추출\n",
    "    \"\"\"\n",
    "    metadata = {\n",
    "        \"법령명\": None,\n",
    "        \"발의일\": None,\n",
    "        \"발의자\": None,\n",
    "    }\n",
    "    with pdfplumber.open(pdf_path) as pdf:\n",
    "        first_text = pdf.pages[0].extract_text() or \"\"\n",
    "        lines = [line.strip() for line in first_text.split(\"\\n\") if line.strip()]\n",
    "        for line in lines:\n",
    "            if \"법률\" in line and \"개정\" in line:\n",
    "                metadata[\"법령명\"] = line\n",
    "            elif \"발의연월일\" in line:\n",
    "                metadata[\"발의일\"] = line.split(\":\")[-1].strip()\n",
    "            elif \"발 의 자\" in line or \"발의자\" in line:\n",
    "                metadata[\"발의자\"] = line.split(\":\")[-1].strip()\n",
    "            elif \"의원\" in line and not metadata[\"발의자\"]:\n",
    "                metadata[\"발의자\"] = line.strip()\n",
    "    return metadata\n"
   ]
  },
  {
   "cell_type": "code",
   "execution_count": 2,
   "id": "9aefa722",
   "metadata": {},
   "outputs": [],
   "source": [
    "def extract_table_from_syn_gu_page(pdf_path) -> list[list[str]]:\n",
    "    \"\"\"\n",
    "    신구조문대비표 추출\n",
    "    \"\"\"\n",
    "    rows = []\n",
    "    capturing = False\n",
    "    with pdfplumber.open(pdf_path) as pdf:\n",
    "        for page in pdf.pages:\n",
    "            text = page.extract_text() or \"\"\n",
    "            if not capturing and \"신구조문대비표\" in text.replace(\" \", \"\"):\n",
    "                capturing = True\n",
    "            if capturing:\n",
    "                tables = page.extract_tables()\n",
    "                for table in tables:\n",
    "                    for row in table:\n",
    "                        if row and len(row) >= 2:\n",
    "                            left = row[0].strip() if row[0] else \"\"\n",
    "                            right = row[1].strip() if row[1] else \"\"\n",
    "                            rows.append([left, right])\n",
    "                break  # 첫 신구조문대비표 페이지만\n",
    "    return rows\n"
   ]
  },
  {
   "cell_type": "code",
   "execution_count": 3,
   "id": "c8ab6826",
   "metadata": {},
   "outputs": [
    {
     "name": "stdout",
     "output_type": "stream",
     "text": [
      "📘 메타데이터: {'법령명': '헌법재판소법 일부개정법률안', '발의일': '2025. 5. 9.', '발의자': '윤준병ㆍ허성무ㆍ장종태'}\n"
     ]
    }
   ],
   "source": [
    "import os\n",
    "import pandas as pd\n",
    "\n",
    "base_dir = \"../data/\"\n",
    "pdf_path = os.path.join(base_dir, \"no_upload/2210437_의사국 의안과_의안원문.pdf\")\n",
    "\n",
    "meta = extract_metadata_first_page(pdf_path)\n",
    "table = extract_table_from_syn_gu_page(pdf_path)\n",
    "\n",
    "print(\"📘 메타데이터:\", meta)\n",
    "\n",
    "pd.DataFrame(table, columns=[\"현행\", \"개정안\"]).to_excel(os.path.join(base_dir, \"processed/2210437_의사국 의안과_의안원문_표출력결과.xlsx\"), index=False)"
   ]
  },
  {
   "cell_type": "code",
   "execution_count": null,
   "id": "b4c862b8",
   "metadata": {},
   "outputs": [],
   "source": [
    "from collections import defaultdict\n",
    "\n",
    "def extract_syn_gu_by_word(path, line_tol=2):\n",
    "    import pdfplumber\n",
    "    result_rows = []\n",
    "    capturing = False\n",
    "\n",
    "    with pdfplumber.open(path) as pdf:\n",
    "        for page in pdf.pages:\n",
    "            text = page.extract_text() or \"\"\n",
    "            if not capturing and \"신구조문대비표\" in text.replace(\" \", \"\"):\n",
    "                capturing = True\n",
    "\n",
    "            if capturing:\n",
    "                words = page.extract_words()\n",
    "                midpoint = page.width / 2\n",
    "                line_map = defaultdict(lambda: {\"left\": \"\", \"right\": \"\"})\n",
    "\n",
    "                for word in words:\n",
    "                    top_key = round(word['top'] / line_tol) * line_tol\n",
    "                    if word['x0'] < midpoint:\n",
    "                        line_map[top_key][\"left\"] += \" \" + word['text']\n",
    "                    else:\n",
    "                        line_map[top_key][\"right\"] += \" \" + word['text']\n",
    "\n",
    "                for top in sorted(line_map.keys()):\n",
    "                    l = line_map[top][\"left\"].strip()\n",
    "                    r = line_map[top][\"right\"].strip()\n",
    "                    result_rows.append([l, r])\n",
    "                break  # 첫 신구 페이지만\n",
    "\n",
    "    return result_rows\n"
   ]
  },
  {
   "cell_type": "code",
   "execution_count": 4,
   "id": "df50685e",
   "metadata": {},
   "outputs": [],
   "source": [
    "from collections import defaultdict\n",
    "import pdfplumber\n",
    "\n",
    "def extract_syn_gu_by_word(path, line_tol=3):\n",
    "    result_rows = []\n",
    "    capturing = False\n",
    "\n",
    "    with pdfplumber.open(path) as pdf:\n",
    "        for page in pdf.pages:\n",
    "            text = page.extract_text() or \"\"\n",
    "            if not capturing and \"신구조문대비표\" in text.replace(\" \", \"\"):\n",
    "                capturing = True\n",
    "\n",
    "            if capturing:\n",
    "                words = page.extract_words()\n",
    "                midpoint = page.width / 2\n",
    "                line_map = defaultdict(lambda: {\"left\": \"\", \"right\": \"\"})\n",
    "\n",
    "                for word in words:\n",
    "                    top_key = round(word['top'] / line_tol) * line_tol\n",
    "                    if word['x0'] < midpoint:\n",
    "                        line_map[top_key][\"left\"] += \" \" + word['text']\n",
    "                    else:\n",
    "                        line_map[top_key][\"right\"] += \" \" + word['text']\n",
    "\n",
    "                for top in sorted(line_map.keys()):\n",
    "                    l = line_map[top][\"left\"].strip()\n",
    "                    r = line_map[top][\"right\"].strip()\n",
    "                    result_rows.append([l, r])\n",
    "                break\n",
    "\n",
    "    return result_rows\n"
   ]
  },
  {
   "cell_type": "code",
   "execution_count": 5,
   "id": "c12d3ae4",
   "metadata": {},
   "outputs": [],
   "source": [
    "from pathlib import Path\n",
    "import pandas as pd\n",
    "\n",
    "pdf_dir = Path(\"../data/no_upload\")\n",
    "pdf_files = list(pdf_dir.glob(\"*.pdf\"))\n",
    "all_rows = []\n",
    "\n",
    "for path in pdf_files:\n",
    "    try:\n",
    "        rows = extract_syn_gu_by_word(str(path))\n",
    "        for l, r in rows:\n",
    "            all_rows.append({\"파일명\": path.name, \"현행\": l, \"개정안\": r})\n",
    "    except Exception as e:\n",
    "        all_rows.append({\"파일명\": path.name, \"현행\": f\"[ERROR] {e}\", \"개정안\": \"\"})\n"
   ]
  },
  {
   "cell_type": "code",
   "execution_count": null,
   "id": "347dbe3c",
   "metadata": {},
   "outputs": [],
   "source": [
    "for rows in all_rows:\n",
    "    print(rows)"
   ]
  },
  {
   "cell_type": "code",
   "execution_count": null,
   "id": "cde7d885",
   "metadata": {},
   "outputs": [],
   "source": []
  }
 ],
 "metadata": {
  "kernelspec": {
   "display_name": "ibk",
   "language": "python",
   "name": "python3"
  },
  "language_info": {
   "codemirror_mode": {
    "name": "ipython",
    "version": 3
   },
   "file_extension": ".py",
   "mimetype": "text/x-python",
   "name": "python",
   "nbconvert_exporter": "python",
   "pygments_lexer": "ipython3",
   "version": "3.11.13"
  }
 },
 "nbformat": 4,
 "nbformat_minor": 5
}
