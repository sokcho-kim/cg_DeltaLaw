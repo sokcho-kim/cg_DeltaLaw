{
 "cells": [
  {
   "cell_type": "markdown",
   "id": "ede9fbcc",
   "metadata": {},
   "source": []
  },
  {
   "cell_type": "code",
   "execution_count": 9,
   "id": "ae5449e3",
   "metadata": {},
   "outputs": [],
   "source": [
    "import fitz  # PyMuPDF\n",
    "import pandas as pd\n",
    "import os\n",
    "import re\n",
    "\n",
    "# ✅ 1. 메타데이터 추출\n",
    "def extract_meta_info(text: str) -> dict:\n",
    "    law_name = \"\"\n",
    "    revision_type = \"일부\"\n",
    "    bill_number = \"\"\n",
    "    proposal_date = \"\"\n",
    "\n",
    "    lines = text.split(\"\\n\")\n",
    "    for line in lines:\n",
    "        if \"법률안\" in line and not law_name:\n",
    "            law_name = line.strip()\n",
    "            if \"전부개정\" in law_name:\n",
    "                revision_type = \"전부\"\n",
    "        if \"의안번호\" in line:\n",
    "            bill_number = re.sub(r\"[^0-9]\", \"\", line)\n",
    "        if \"발의연월일\" in line or \"발의일\" in line:\n",
    "            proposal_date = re.sub(r\"[^0-9]\", \"\", line)\n",
    "\n",
    "    return {\n",
    "        \"법령명\": law_name,\n",
    "        \"개정유형\": revision_type,\n",
    "        \"의안번호\": bill_number,\n",
    "        \"발의일\": proposal_date\n",
    "    }\n",
    "\n",
    "# ✅ 2. 신구조문이 포함된 페이지 탐색\n",
    "def extract_clause_table_pages(doc):\n",
    "    result_pages = []\n",
    "    for page_num in range(len(doc)):\n",
    "        text = doc[page_num].get_text()\n",
    "        if \"신·구조문대비표\" in text or \"신·구 조문 대비표\" in text:\n",
    "            result_pages.append(page_num)\n",
    "    return result_pages\n",
    "\n",
    "# ✅ 3. 블록 텍스트 추출 (x0 좌표 기준으로)\n",
    "def extract_text_blocks(doc, pages):\n",
    "    clauses = []\n",
    "    for page_num in pages:\n",
    "        blocks = doc[page_num].get_text(\"blocks\")\n",
    "        for block in blocks:\n",
    "            x0, y0, x1, y1, text, block_no = block\n",
    "            if len(text.strip()) > 5:\n",
    "                clauses.append((x0, text.strip()))\n",
    "    return clauses\n",
    "\n",
    "# ✅ 4. 좌우 구분\n",
    "def classify_blocks(clauses):\n",
    "    left_texts = []\n",
    "    right_texts = []\n",
    "    for x0, text in clauses:\n",
    "        if x0 < 250:\n",
    "            left_texts.append(text)\n",
    "        elif x0 > 300:\n",
    "            right_texts.append(text)\n",
    "    return left_texts, right_texts\n",
    "\n",
    "# ✅ 5. 변경유형 분류\n",
    "def classify_change_type(old_text, new_text):\n",
    "    if \"(현행과 같음)\" in new_text or \"---\" in new_text:\n",
    "        return \"변동\" if old_text != new_text else \"유지\"\n",
    "    elif \"(신설)\" in old_text or \"없음\" in old_text:\n",
    "        return \"신설\"\n",
    "    elif \"(삭제)\" in new_text or \"없음\" in new_text:\n",
    "        return \"삭제\"\n",
    "    else:\n",
    "        return \"변동\" if old_text != new_text else \"유지\"\n",
    "\n",
    "# ✅ 6. 조/항/호/목 분리\n",
    "def split_article_id(article_id):\n",
    "    parts = {\"조\": \"\", \"항\": \"\", \"호\": \"\", \"목\": \"\"}\n",
    "    if \"조\" in article_id:\n",
    "        parts[\"조\"] = re.findall(r\"(제?\\d+조[\\w]*)\", article_id)[0] if re.findall(r\"(제?\\d+조[\\w]*)\", article_id) else \"\"\n",
    "    if \"항\" in article_id:\n",
    "        parts[\"항\"] = re.findall(r\"(제?\\d+항)\", article_id)[0] if re.findall(r\"(제?\\d+항)\", article_id) else \"\"\n",
    "    if \"호\" in article_id:\n",
    "        parts[\"호\"] = re.findall(r\"(제?\\d+호)\", article_id)[0] if re.findall(r\"(제?\\d+호)\", article_id) else \"\"\n",
    "    if \"목\" in article_id:\n",
    "        parts[\"목\"] = re.findall(r\"(제?\\d+목)\", article_id)[0] if re.findall(r\"(제?\\d+목)\", article_id) else \"\"\n",
    "    return parts\n",
    "\n",
    "# ✅ 7. 메인 처리 함수\n",
    "def process_single_pdf_v5(pdf_path: str) -> pd.DataFrame:\n",
    "    doc = fitz.open(pdf_path)\n",
    "    full_text = \"\\n\".join([page.get_text() for page in doc])\n",
    "    meta = extract_meta_info(full_text)\n",
    "    if meta[\"개정유형\"] == \"전부\":\n",
    "        print(f\"[PASS] 전부개정법률안 제외됨: {os.path.basename(pdf_path)}\")\n",
    "        return pd.DataFrame()\n",
    "\n",
    "    target_pages = extract_clause_table_pages(doc)\n",
    "    blocks = extract_text_blocks(doc, target_pages)\n",
    "    left_texts, right_texts = classify_blocks(blocks)\n",
    "\n",
    "    data = []\n",
    "    for old, new in zip(left_texts, right_texts):\n",
    "        article_id_match = re.search(r\"(제?\\d+조[\\w의\\d]*)\", new)\n",
    "        article_id = article_id_match.group(1) if article_id_match else \"\"\n",
    "        article_id = article_id.replace(\"~\", \"\").strip()\n",
    "        levels = split_article_id(article_id)\n",
    "        change_type = classify_change_type(old, new)\n",
    "        if change_type == \"유지\":\n",
    "            continue\n",
    "\n",
    "        data.append({\n",
    "            \"법령명\": meta[\"법령명\"],\n",
    "            \"조문ID\": article_id,\n",
    "            \"조\": levels[\"조\"],\n",
    "            \"항\": levels[\"항\"],\n",
    "            \"호\": levels[\"호\"],\n",
    "            \"목\": levels[\"목\"],\n",
    "            \"기존\": old,\n",
    "            \"변경\": new,\n",
    "            \"변경유형\": change_type,\n",
    "            \"파일이름\": os.path.basename(pdf_path)\n",
    "        })\n",
    "\n",
    "    return pd.DataFrame(data)\n"
   ]
  },
  {
   "cell_type": "code",
   "execution_count": 10,
   "id": "7f845049",
   "metadata": {},
   "outputs": [],
   "source": [
    "import pandas as pd\n",
    "\n",
    "df = process_single_pdf_v5(\"../data/no_upload/2210568_의사국 의안과_의안원문.pdf\")\n",
    "df.to_csv(\"../data/processed/조문_비교결과_v5.csv\", index=False)"
   ]
  },
  {
   "cell_type": "code",
   "execution_count": 11,
   "id": "ccdeb5fc",
   "metadata": {},
   "outputs": [
    {
     "name": "stdout",
     "output_type": "stream",
     "text": [
      "<class 'pandas.core.frame.DataFrame'>\n",
      "RangeIndex: 0 entries\n",
      "Empty DataFrame\n"
     ]
    }
   ],
   "source": [
    "df.info()"
   ]
  },
  {
   "cell_type": "code",
   "execution_count": 8,
   "id": "5e835c1b",
   "metadata": {},
   "outputs": [
    {
     "ename": "EmptyDataError",
     "evalue": "No columns to parse from file",
     "output_type": "error",
     "traceback": [
      "\u001b[31m---------------------------------------------------------------------------\u001b[39m",
      "\u001b[31mEmptyDataError\u001b[39m                            Traceback (most recent call last)",
      "\u001b[36mCell\u001b[39m\u001b[36m \u001b[39m\u001b[32mIn[8]\u001b[39m\u001b[32m, line 1\u001b[39m\n\u001b[32m----> \u001b[39m\u001b[32m1\u001b[39m new_df = \u001b[43mpd\u001b[49m\u001b[43m.\u001b[49m\u001b[43mread_csv\u001b[49m\u001b[43m(\u001b[49m\u001b[33;43m\"\u001b[39;49m\u001b[33;43m../data/processed/조문_비교결과_v5.csv\u001b[39;49m\u001b[33;43m\"\u001b[39;49m\u001b[43m)\u001b[49m\n\u001b[32m      3\u001b[39m new_df.info()\n",
      "\u001b[36mFile \u001b[39m\u001b[32mc:\\Users\\sokch\\.conda\\envs\\ibk\\Lib\\site-packages\\pandas\\io\\parsers\\readers.py:1026\u001b[39m, in \u001b[36mread_csv\u001b[39m\u001b[34m(filepath_or_buffer, sep, delimiter, header, names, index_col, usecols, dtype, engine, converters, true_values, false_values, skipinitialspace, skiprows, skipfooter, nrows, na_values, keep_default_na, na_filter, verbose, skip_blank_lines, parse_dates, infer_datetime_format, keep_date_col, date_parser, date_format, dayfirst, cache_dates, iterator, chunksize, compression, thousands, decimal, lineterminator, quotechar, quoting, doublequote, escapechar, comment, encoding, encoding_errors, dialect, on_bad_lines, delim_whitespace, low_memory, memory_map, float_precision, storage_options, dtype_backend)\u001b[39m\n\u001b[32m   1013\u001b[39m kwds_defaults = _refine_defaults_read(\n\u001b[32m   1014\u001b[39m     dialect,\n\u001b[32m   1015\u001b[39m     delimiter,\n\u001b[32m   (...)\u001b[39m\u001b[32m   1022\u001b[39m     dtype_backend=dtype_backend,\n\u001b[32m   1023\u001b[39m )\n\u001b[32m   1024\u001b[39m kwds.update(kwds_defaults)\n\u001b[32m-> \u001b[39m\u001b[32m1026\u001b[39m \u001b[38;5;28;01mreturn\u001b[39;00m \u001b[43m_read\u001b[49m\u001b[43m(\u001b[49m\u001b[43mfilepath_or_buffer\u001b[49m\u001b[43m,\u001b[49m\u001b[43m \u001b[49m\u001b[43mkwds\u001b[49m\u001b[43m)\u001b[49m\n",
      "\u001b[36mFile \u001b[39m\u001b[32mc:\\Users\\sokch\\.conda\\envs\\ibk\\Lib\\site-packages\\pandas\\io\\parsers\\readers.py:620\u001b[39m, in \u001b[36m_read\u001b[39m\u001b[34m(filepath_or_buffer, kwds)\u001b[39m\n\u001b[32m    617\u001b[39m _validate_names(kwds.get(\u001b[33m\"\u001b[39m\u001b[33mnames\u001b[39m\u001b[33m\"\u001b[39m, \u001b[38;5;28;01mNone\u001b[39;00m))\n\u001b[32m    619\u001b[39m \u001b[38;5;66;03m# Create the parser.\u001b[39;00m\n\u001b[32m--> \u001b[39m\u001b[32m620\u001b[39m parser = \u001b[43mTextFileReader\u001b[49m\u001b[43m(\u001b[49m\u001b[43mfilepath_or_buffer\u001b[49m\u001b[43m,\u001b[49m\u001b[43m \u001b[49m\u001b[43m*\u001b[49m\u001b[43m*\u001b[49m\u001b[43mkwds\u001b[49m\u001b[43m)\u001b[49m\n\u001b[32m    622\u001b[39m \u001b[38;5;28;01mif\u001b[39;00m chunksize \u001b[38;5;129;01mor\u001b[39;00m iterator:\n\u001b[32m    623\u001b[39m     \u001b[38;5;28;01mreturn\u001b[39;00m parser\n",
      "\u001b[36mFile \u001b[39m\u001b[32mc:\\Users\\sokch\\.conda\\envs\\ibk\\Lib\\site-packages\\pandas\\io\\parsers\\readers.py:1620\u001b[39m, in \u001b[36mTextFileReader.__init__\u001b[39m\u001b[34m(self, f, engine, **kwds)\u001b[39m\n\u001b[32m   1617\u001b[39m     \u001b[38;5;28mself\u001b[39m.options[\u001b[33m\"\u001b[39m\u001b[33mhas_index_names\u001b[39m\u001b[33m\"\u001b[39m] = kwds[\u001b[33m\"\u001b[39m\u001b[33mhas_index_names\u001b[39m\u001b[33m\"\u001b[39m]\n\u001b[32m   1619\u001b[39m \u001b[38;5;28mself\u001b[39m.handles: IOHandles | \u001b[38;5;28;01mNone\u001b[39;00m = \u001b[38;5;28;01mNone\u001b[39;00m\n\u001b[32m-> \u001b[39m\u001b[32m1620\u001b[39m \u001b[38;5;28mself\u001b[39m._engine = \u001b[38;5;28;43mself\u001b[39;49m\u001b[43m.\u001b[49m\u001b[43m_make_engine\u001b[49m\u001b[43m(\u001b[49m\u001b[43mf\u001b[49m\u001b[43m,\u001b[49m\u001b[43m \u001b[49m\u001b[38;5;28;43mself\u001b[39;49m\u001b[43m.\u001b[49m\u001b[43mengine\u001b[49m\u001b[43m)\u001b[49m\n",
      "\u001b[36mFile \u001b[39m\u001b[32mc:\\Users\\sokch\\.conda\\envs\\ibk\\Lib\\site-packages\\pandas\\io\\parsers\\readers.py:1898\u001b[39m, in \u001b[36mTextFileReader._make_engine\u001b[39m\u001b[34m(self, f, engine)\u001b[39m\n\u001b[32m   1895\u001b[39m     \u001b[38;5;28;01mraise\u001b[39;00m \u001b[38;5;167;01mValueError\u001b[39;00m(msg)\n\u001b[32m   1897\u001b[39m \u001b[38;5;28;01mtry\u001b[39;00m:\n\u001b[32m-> \u001b[39m\u001b[32m1898\u001b[39m     \u001b[38;5;28;01mreturn\u001b[39;00m \u001b[43mmapping\u001b[49m\u001b[43m[\u001b[49m\u001b[43mengine\u001b[49m\u001b[43m]\u001b[49m\u001b[43m(\u001b[49m\u001b[43mf\u001b[49m\u001b[43m,\u001b[49m\u001b[43m \u001b[49m\u001b[43m*\u001b[49m\u001b[43m*\u001b[49m\u001b[38;5;28;43mself\u001b[39;49m\u001b[43m.\u001b[49m\u001b[43moptions\u001b[49m\u001b[43m)\u001b[49m\n\u001b[32m   1899\u001b[39m \u001b[38;5;28;01mexcept\u001b[39;00m \u001b[38;5;167;01mException\u001b[39;00m:\n\u001b[32m   1900\u001b[39m     \u001b[38;5;28;01mif\u001b[39;00m \u001b[38;5;28mself\u001b[39m.handles \u001b[38;5;129;01mis\u001b[39;00m \u001b[38;5;129;01mnot\u001b[39;00m \u001b[38;5;28;01mNone\u001b[39;00m:\n",
      "\u001b[36mFile \u001b[39m\u001b[32mc:\\Users\\sokch\\.conda\\envs\\ibk\\Lib\\site-packages\\pandas\\io\\parsers\\c_parser_wrapper.py:93\u001b[39m, in \u001b[36mCParserWrapper.__init__\u001b[39m\u001b[34m(self, src, **kwds)\u001b[39m\n\u001b[32m     90\u001b[39m \u001b[38;5;28;01mif\u001b[39;00m kwds[\u001b[33m\"\u001b[39m\u001b[33mdtype_backend\u001b[39m\u001b[33m\"\u001b[39m] == \u001b[33m\"\u001b[39m\u001b[33mpyarrow\u001b[39m\u001b[33m\"\u001b[39m:\n\u001b[32m     91\u001b[39m     \u001b[38;5;66;03m# Fail here loudly instead of in cython after reading\u001b[39;00m\n\u001b[32m     92\u001b[39m     import_optional_dependency(\u001b[33m\"\u001b[39m\u001b[33mpyarrow\u001b[39m\u001b[33m\"\u001b[39m)\n\u001b[32m---> \u001b[39m\u001b[32m93\u001b[39m \u001b[38;5;28mself\u001b[39m._reader = \u001b[43mparsers\u001b[49m\u001b[43m.\u001b[49m\u001b[43mTextReader\u001b[49m\u001b[43m(\u001b[49m\u001b[43msrc\u001b[49m\u001b[43m,\u001b[49m\u001b[43m \u001b[49m\u001b[43m*\u001b[49m\u001b[43m*\u001b[49m\u001b[43mkwds\u001b[49m\u001b[43m)\u001b[49m\n\u001b[32m     95\u001b[39m \u001b[38;5;28mself\u001b[39m.unnamed_cols = \u001b[38;5;28mself\u001b[39m._reader.unnamed_cols\n\u001b[32m     97\u001b[39m \u001b[38;5;66;03m# error: Cannot determine type of 'names'\u001b[39;00m\n",
      "\u001b[36mFile \u001b[39m\u001b[32mpandas/_libs/parsers.pyx:581\u001b[39m, in \u001b[36mpandas._libs.parsers.TextReader.__cinit__\u001b[39m\u001b[34m()\u001b[39m\n",
      "\u001b[31mEmptyDataError\u001b[39m: No columns to parse from file"
     ]
    }
   ],
   "source": [
    "new_df = pd.read_csv(\"../data/processed/조문_비교결과_v5.csv\")\n",
    "\n",
    "new_df.info()\n"
   ]
  },
  {
   "cell_type": "code",
   "execution_count": null,
   "id": "6f032d23",
   "metadata": {},
   "outputs": [],
   "source": [
    "\n",
    "new_df.head()\n",
    "\n",
    "new_df.columns"
   ]
  }
 ],
 "metadata": {
  "kernelspec": {
   "display_name": "ibk",
   "language": "python",
   "name": "python3"
  },
  "language_info": {
   "codemirror_mode": {
    "name": "ipython",
    "version": 3
   },
   "file_extension": ".py",
   "mimetype": "text/x-python",
   "name": "python",
   "nbconvert_exporter": "python",
   "pygments_lexer": "ipython3",
   "version": "3.11.13"
  }
 },
 "nbformat": 4,
 "nbformat_minor": 5
}
