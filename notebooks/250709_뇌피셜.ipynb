{
 "cells": [
  {
   "cell_type": "code",
   "execution_count": 1,
   "id": "f6edf1b3",
   "metadata": {},
   "outputs": [],
   "source": [
    "import re\n",
    "import pdfplumber\n",
    "import csv\n",
    "from difflib import SequenceMatcher"
   ]
  },
  {
   "cell_type": "code",
   "execution_count": 3,
   "id": "84089bcf",
   "metadata": {},
   "outputs": [],
   "source": [
    "def extract_text_from_pdf(path):\n",
    "    with pdfplumber.open(path) as pdf:\n",
    "        text = \"\\n\".join(page.extract_text() for page in pdf.pages if page.extract_text())\n",
    "    return text\n",
    "\n",
    "\n",
    "def split_by_clause(text):\n",
    "    pattern = r\"(제\\d+조(?:\\s*제\\d+항)?)\"\n",
    "    parts = re.split(pattern, text)\n",
    "    clauses = []\n",
    "    for i in range(1, len(parts), 2):\n",
    "        law_id = parts[i].strip()\n",
    "        law_body = parts[i + 1].strip() if i + 1 < len(parts) else \"\"\n",
    "        clauses.append((law_id, law_body))\n",
    "    return clauses\n",
    "\n",
    "\n",
    "def compare_clauses(old_clauses, new_clauses, similarity_threshold=0.8):\n",
    "    results = []\n",
    "    old_dict = {cid: text for cid, text in old_clauses}\n",
    "    new_ids = set(cid for cid, _ in new_clauses)\n",
    "\n",
    "    for cid, new_text in new_clauses:\n",
    "        old_text = old_dict.get(cid)\n",
    "        if old_text:\n",
    "            sim = SequenceMatcher(None, old_text, new_text).ratio()\n",
    "            if sim < similarity_threshold:\n",
    "                results.append((cid, old_text, new_text, \"수정\"))\n",
    "        else:\n",
    "            results.append((cid, \"\", new_text, \"신설\"))\n",
    "\n",
    "    for cid, old_text in old_clauses:\n",
    "        if cid not in new_ids:\n",
    "            results.append((cid, old_text, \"\", \"삭제\"))\n",
    "\n",
    "    return results\n",
    "\n",
    "def save_to_csv(data, path):\n",
    "    with open(path, mode=\"w\", encoding=\"utf-8-sig\", newline=\"\") as f:\n",
    "        writer = csv.writer(f)\n",
    "        writer.writerow([\"조문 ID\", \"구조문\", \"신조문\", \"변경유형\"])\n",
    "        writer.writerows(data)"
   ]
  },
  {
   "cell_type": "code",
   "execution_count": 5,
   "id": "a6dce1ee",
   "metadata": {},
   "outputs": [
    {
     "ename": "FileNotFoundError",
     "evalue": "[Errno 2] No such file or directory: 'C:\\\\Jimin\\\\cg_DeltaLaw\\\\data\\\\raw\\\\new.pdf'",
     "output_type": "error",
     "traceback": [
      "\u001b[31m---------------------------------------------------------------------------\u001b[39m",
      "\u001b[31mFileNotFoundError\u001b[39m                         Traceback (most recent call last)",
      "\u001b[36mCell\u001b[39m\u001b[36m \u001b[39m\u001b[32mIn[5]\u001b[39m\u001b[32m, line 6\u001b[39m\n\u001b[32m      4\u001b[39m output_path = \u001b[33mr\u001b[39m\u001b[33m\"\u001b[39m\u001b[33mC:\u001b[39m\u001b[33m\\\u001b[39m\u001b[33mJimin\u001b[39m\u001b[33m\\\u001b[39m\u001b[33mcg_DeltaLaw\u001b[39m\u001b[33m\\\u001b[39m\u001b[33mdata\u001b[39m\u001b[33m\\\u001b[39m\u001b[33mprocessed\u001b[39m\u001b[33m\"\u001b[39m\n\u001b[32m      5\u001b[39m old_text = extract_text_from_pdf(os.path.join(base_path, \u001b[33m\"\u001b[39m\u001b[33m2205429_의사국 의안과_의안원문.pdf\u001b[39m\u001b[33m\"\u001b[39m))\n\u001b[32m----> \u001b[39m\u001b[32m6\u001b[39m new_text = \u001b[43mextract_text_from_pdf\u001b[49m\u001b[43m(\u001b[49m\u001b[43mos\u001b[49m\u001b[43m.\u001b[49m\u001b[43mpath\u001b[49m\u001b[43m.\u001b[49m\u001b[43mjoin\u001b[49m\u001b[43m(\u001b[49m\u001b[43mbase_path\u001b[49m\u001b[43m,\u001b[49m\u001b[43m \u001b[49m\u001b[33;43m\"\u001b[39;49m\u001b[33;43mnew.pdf\u001b[39;49m\u001b[33;43m\"\u001b[39;49m\u001b[43m)\u001b[49m\u001b[43m)\u001b[49m\n\u001b[32m      8\u001b[39m old_clauses = split_by_clause(old_text)\n\u001b[32m      9\u001b[39m new_clauses = split_by_clause(new_text)\n",
      "\u001b[36mCell\u001b[39m\u001b[36m \u001b[39m\u001b[32mIn[3]\u001b[39m\u001b[32m, line 2\u001b[39m, in \u001b[36mextract_text_from_pdf\u001b[39m\u001b[34m(path)\u001b[39m\n\u001b[32m      1\u001b[39m \u001b[38;5;28;01mdef\u001b[39;00m\u001b[38;5;250m \u001b[39m\u001b[34mextract_text_from_pdf\u001b[39m(path):\n\u001b[32m----> \u001b[39m\u001b[32m2\u001b[39m     \u001b[38;5;28;01mwith\u001b[39;00m \u001b[43mpdfplumber\u001b[49m\u001b[43m.\u001b[49m\u001b[43mopen\u001b[49m\u001b[43m(\u001b[49m\u001b[43mpath\u001b[49m\u001b[43m)\u001b[49m \u001b[38;5;28;01mas\u001b[39;00m pdf:\n\u001b[32m      3\u001b[39m         text = \u001b[33m\"\u001b[39m\u001b[38;5;130;01m\\n\u001b[39;00m\u001b[33m\"\u001b[39m.join(page.extract_text() \u001b[38;5;28;01mfor\u001b[39;00m page \u001b[38;5;129;01min\u001b[39;00m pdf.pages \u001b[38;5;28;01mif\u001b[39;00m page.extract_text())\n\u001b[32m      4\u001b[39m     \u001b[38;5;28;01mreturn\u001b[39;00m text\n",
      "\u001b[36mFile \u001b[39m\u001b[32mc:\\Users\\sokch\\.conda\\envs\\ibk\\Lib\\site-packages\\pdfplumber\\pdf.py:98\u001b[39m, in \u001b[36mPDF.open\u001b[39m\u001b[34m(cls, path_or_fp, pages, laparams, password, strict_metadata, unicode_norm, repair, gs_path, repair_setting, raise_unicode_errors)\u001b[39m\n\u001b[32m     96\u001b[39m     path = \u001b[38;5;28;01mNone\u001b[39;00m\n\u001b[32m     97\u001b[39m \u001b[38;5;28;01melif\u001b[39;00m \u001b[38;5;28misinstance\u001b[39m(path_or_fp, (\u001b[38;5;28mstr\u001b[39m, pathlib.Path)):\n\u001b[32m---> \u001b[39m\u001b[32m98\u001b[39m     stream = \u001b[38;5;28;43mopen\u001b[39;49m\u001b[43m(\u001b[49m\u001b[43mpath_or_fp\u001b[49m\u001b[43m,\u001b[49m\u001b[43m \u001b[49m\u001b[33;43m\"\u001b[39;49m\u001b[33;43mrb\u001b[39;49m\u001b[33;43m\"\u001b[39;49m\u001b[43m)\u001b[49m\n\u001b[32m     99\u001b[39m     stream_is_external = \u001b[38;5;28;01mFalse\u001b[39;00m\n\u001b[32m    100\u001b[39m     path = pathlib.Path(path_or_fp)\n",
      "\u001b[31mFileNotFoundError\u001b[39m: [Errno 2] No such file or directory: 'C:\\\\Jimin\\\\cg_DeltaLaw\\\\data\\\\raw\\\\new.pdf'"
     ]
    }
   ],
   "source": [
    "import os\n",
    "\n",
    "base_path = r\"C:\\Jimin\\cg_DeltaLaw\\data\\raw\"\n",
    "output_path = r\"C:\\Jimin\\cg_DeltaLaw\\data\\processed\"\n",
    "old_text = extract_text_from_pdf(os.path.join(base_path, \"2205429_의사국 의안과_의안원문.pdf\"))\n",
    "new_text = extract_text_from_pdf(os.path.join(base_path, \"new.pdf\"))\n",
    "\n",
    "old_clauses = split_by_clause(old_text)\n",
    "new_clauses = split_by_clause(new_text)\n",
    "\n",
    "results = compare_clauses(old_clauses, new_clauses)\n",
    "save_to_csv(results, \"조문_비교결과.csv\")"
   ]
  },
  {
   "cell_type": "code",
   "execution_count": null,
   "id": "a5c31b5c",
   "metadata": {},
   "outputs": [],
   "source": []
  }
 ],
 "metadata": {
  "kernelspec": {
   "display_name": "ibk",
   "language": "python",
   "name": "python3"
  },
  "language_info": {
   "codemirror_mode": {
    "name": "ipython",
    "version": 3
   },
   "file_extension": ".py",
   "mimetype": "text/x-python",
   "name": "python",
   "nbconvert_exporter": "python",
   "pygments_lexer": "ipython3",
   "version": "3.11.13"
  }
 },
 "nbformat": 4,
 "nbformat_minor": 5
}
