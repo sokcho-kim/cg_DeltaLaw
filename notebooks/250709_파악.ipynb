{
 "cells": [
  {
   "cell_type": "code",
   "execution_count": 3,
   "id": "3ea4a356",
   "metadata": {},
   "outputs": [],
   "source": [
    "import fitz  # PyMuPDF\n",
    "\n",
    "# PDF 파일 열기\n",
    "pdf_path = r\"C:\\Jimin\\cg_DeltaLaw\\data\\raw\\2205429_의사국 의안과_의안원문.pdf\"\n",
    "doc = fitz.open(pdf_path)\n",
    "\n",
    "# 모든 페이지에서 텍스트 추출\n",
    "text_pages = [page.get_text() for page in doc]\n",
    "full_text = \"\\n\".join(text_pages)\n"
   ]
  },
  {
   "cell_type": "code",
   "execution_count": 4,
   "id": "efbeff71",
   "metadata": {},
   "outputs": [],
   "source": [
    "# 신구조문 구간 추출 로직 (예: \"현 행\" ~ \"개 정 안\")\n",
    "import re\n",
    "\n",
    "# \"현 행\"과 \"개 정 안\" 섹션 구간을 정규표현식으로 탐지\n",
    "pattern = r\"(현\\s*행.*?)(개\\s*정\\s*안.*?)(제\\s*\\d+조|$)\"\n",
    "matches = re.findall(pattern, full_text, flags=re.DOTALL)\n",
    "\n",
    "parsed_sections = []\n",
    "for match in matches:\n",
    "    current, revised, next_start = match\n",
    "    parsed_sections.append({\n",
    "        \"현행\": current.strip(),\n",
    "        \"개정안\": revised.strip()\n",
    "    })\n"
   ]
  },
  {
   "cell_type": "code",
   "execution_count": 6,
   "id": "af040c61",
   "metadata": {},
   "outputs": [],
   "source": [
    "import fitz  # PyMuPDF\n",
    "import re\n",
    "import pandas as pd\n",
    "\n",
    "pdf_path = r\"C:\\Jimin\\cg_DeltaLaw\\data\\raw\\2205429_의사국 의안과_의안원문.pdf\"\n",
    "\n",
    "doc = fitz.open(pdf_path)\n",
    "text_pages = [page.get_text() for page in doc]\n",
    "full_text = \"\\n\".join(text_pages)\n",
    "\n",
    "# 신구조문 영역 추출\n",
    "pattern = r\"(현\\s*행.*?)(개\\s*정\\s*안.*?)(제\\s*\\d+조|$)\"\n",
    "matches = re.findall(pattern, full_text, flags=re.DOTALL)\n",
    "\n",
    "# 리스트 → DataFrame 변환\n",
    "df = pd.DataFrame([\n",
    "    {\"현행\": m[0].strip(), \"개정안\": m[1].strip()} for m in matches\n",
    "])\n"
   ]
  },
  {
   "cell_type": "code",
   "execution_count": 8,
   "id": "4b71c111",
   "metadata": {},
   "outputs": [
    {
     "name": "stdout",
     "output_type": "stream",
     "text": [
      "                                                  현행      개정안\n",
      "0  현행법상법정자본금은30조원이며, 2\\n024년9월현재납입자본금잔액은26.31조원으로...  개\\n정\\n안\n"
     ]
    }
   ],
   "source": [
    "# 화면에 보기\n",
    "print(df.head())\n",
    "\n",
    "# 파일로 저장\n",
    "df.to_excel(r\"C:\\Jimin\\cg_DeltaLaw\\data\\processed\\신구조문대비표_결과.xlsx\", index=False)"
   ]
  },
  {
   "cell_type": "code",
   "execution_count": 10,
   "id": "74290436",
   "metadata": {},
   "outputs": [],
   "source": [
    "df.to_csv(r\"C:\\Jimin\\cg_DeltaLaw\\data\\processed\\신구조문대비표_결과.csv\", index=False, encoding=\"utf-8-sig\")"
   ]
  },
  {
   "cell_type": "code",
   "execution_count": 12,
   "id": "23d3fa6c",
   "metadata": {},
   "outputs": [
    {
     "name": "stdout",
     "output_type": "stream",
     "text": [
      "                                                  현행  \\\n",
      "0                                           의 안\\n번 호   \n",
      "1                                                현 행   \n",
      "2  제5조(자본금) ① 한국산업은행의\\n자본금은 30조원 이내에서 정\\n관으로 정하되,...   \n",
      "\n",
      "                                                 개정안  \n",
      "0                                               5429  \n",
      "1                                              개 정 안  \n",
      "2  제5조(자본금) ① --------------\\n--------60조원-------...  \n"
     ]
    }
   ],
   "source": [
    "import pdfplumber\n",
    "import pandas as pd\n",
    "\n",
    "# PDF 경로\n",
    "pdf_path = r\"C:\\Jimin\\cg_DeltaLaw\\data\\raw\\2205429_의사국 의안과_의안원문.pdf\"\n",
    "\n",
    "# 신구조문대비표가 있는 페이지 추출 + 표 추출 시도\n",
    "extracted_rows = []\n",
    "with pdfplumber.open(pdf_path) as pdf:\n",
    "    for i, page in enumerate(pdf.pages):\n",
    "        tables = page.extract_tables()\n",
    "        for table in tables:\n",
    "            for row in table:\n",
    "                if row and any(\"현행\" in str(cell) or \"개정안\" in str(cell) for cell in row):\n",
    "                    extracted_rows.append((\"page\", i + 1))\n",
    "                extracted_rows.append(row)\n",
    "\n",
    "# 데이터프레임 변환 (최대 3열까지로 가정)\n",
    "df = pd.DataFrame([r for r in extracted_rows if isinstance(r, list)], columns=[\"현행\", \"개정안\", \"비고\"][:len(max(extracted_rows, key=lambda x: len(x) if isinstance(x, list) else 0))])\n",
    "\n",
    "# 화면에 보기\n",
    "print(df.head())\n",
    "df.to_excel(r\"C:\\Jimin\\cg_DeltaLaw\\data\\processed\\신구조문대비표_결과.xlsx\", index=False)\n",
    "\n"
   ]
  },
  {
   "cell_type": "code",
   "execution_count": 13,
   "id": "feb2c815",
   "metadata": {},
   "outputs": [
    {
     "name": "stdout",
     "output_type": "stream",
     "text": [
      "✅ 저장 완료: 신구조문_수치변경.csv\n"
     ]
    }
   ],
   "source": [
    "import pdfplumber\n",
    "import re\n",
    "import pandas as pd\n",
    "\n",
    "pdf_path = r\"C:\\Jimin\\cg_DeltaLaw\\data\\raw\\2205429_의사국 의안과_의안원문.pdf\"\n",
    "\n",
    "def extract_change_rows(pdf_path):\n",
    "    changes = []\n",
    "    with pdfplumber.open(pdf_path) as pdf:\n",
    "        for page in pdf.pages:\n",
    "            tables = page.extract_tables()\n",
    "            for table in tables:\n",
    "                for row in table:\n",
    "                    if not row or len(row) < 2:\n",
    "                        continue\n",
    "                    old, new = row[0], row[1]\n",
    "                    if not old or not new:\n",
    "                        continue\n",
    "\n",
    "                    # 조문 정보\n",
    "                    match = re.search(r\"(제\\d+조)\\s*(\\(?\\d+\\)?항)?\", old)\n",
    "                    if not match:\n",
    "                        continue\n",
    "                    clause = match.group(1)\n",
    "                    paragraph = match.group(2) if match.group(2) else \"\"\n",
    "\n",
    "                    # 숫자값 추출 (억, 조 단위 포함)\n",
    "                    old_num = re.search(r\"(\\d+[조억]?)\", old)\n",
    "                    new_num = re.search(r\"(\\d+[조억]?)\", new)\n",
    "\n",
    "                    if old_num and new_num and old_num.group() != new_num.group():\n",
    "                        changes.append({\n",
    "                            \"조문\": clause,\n",
    "                            \"항\": paragraph.strip(),\n",
    "                            \"기존\": old_num.group(),\n",
    "                            \"개정\": new_num.group()\n",
    "                        })\n",
    "\n",
    "    return pd.DataFrame(changes)\n",
    "\n",
    "df = extract_change_rows(pdf_path)\n",
    "df.to_csv(\"신구조문_수치변경.csv\", index=False, encoding=\"utf-8-sig\")\n",
    "print(\"✅ 저장 완료: 신구조문_수치변경.csv\")\n"
   ]
  },
  {
   "cell_type": "code",
   "execution_count": 14,
   "id": "6c568ac8",
   "metadata": {},
   "outputs": [],
   "source": [
    "df.to_excel(r\"C:\\Jimin\\cg_DeltaLaw\\data\\processed\\신구조문_수치변경.xlsx\", index=False)"
   ]
  },
  {
   "cell_type": "code",
   "execution_count": null,
   "id": "19921048",
   "metadata": {},
   "outputs": [],
   "source": []
  }
 ],
 "metadata": {
  "kernelspec": {
   "display_name": "ibk",
   "language": "python",
   "name": "python3"
  },
  "language_info": {
   "codemirror_mode": {
    "name": "ipython",
    "version": 3
   },
   "file_extension": ".py",
   "mimetype": "text/x-python",
   "name": "python",
   "nbconvert_exporter": "python",
   "pygments_lexer": "ipython3",
   "version": "3.11.13"
  }
 },
 "nbformat": 4,
 "nbformat_minor": 5
}
