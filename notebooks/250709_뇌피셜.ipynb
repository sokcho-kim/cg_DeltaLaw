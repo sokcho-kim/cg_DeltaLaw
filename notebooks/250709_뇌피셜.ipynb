{
 "cells": [
  {
   "cell_type": "code",
   "execution_count": 3,
   "id": "f6edf1b3",
   "metadata": {},
   "outputs": [],
   "source": [
    "import re\n",
    "import pdfplumber\n",
    "import csv\n",
    "from difflib import SequenceMatcher"
   ]
  },
  {
   "cell_type": "code",
   "execution_count": 2,
   "id": "84089bcf",
   "metadata": {},
   "outputs": [],
   "source": [
    "def extract_text_from_pdf(path):\n",
    "    with pdfplumber.open(path) as pdf:\n",
    "        text = \"\\n\".join(page.extract_text() for page in pdf.pages if page.extract_text())\n",
    "    return text\n",
    "\n",
    "\n",
    "def split_by_clause(text):\n",
    "    pattern = r\"(제\\d+조(?:\\s*제\\d+항)?)\"\n",
    "    parts = re.split(pattern, text)\n",
    "    clauses = []\n",
    "    for i in range(1, len(parts), 2):\n",
    "        law_id = parts[i].strip()\n",
    "        law_body = parts[i + 1].strip() if i + 1 < len(parts) else \"\"\n",
    "        clauses.append((law_id, law_body))\n",
    "    return clauses\n",
    "\n",
    "\n",
    "def compare_clauses(old_clauses, new_clauses, similarity_threshold=0.8):\n",
    "    results = []\n",
    "    old_dict = {cid: text for cid, text in old_clauses}\n",
    "    new_ids = set(cid for cid, _ in new_clauses)\n",
    "\n",
    "    for cid, new_text in new_clauses:\n",
    "        old_text = old_dict.get(cid)\n",
    "        if old_text:\n",
    "            sim = SequenceMatcher(None, old_text, new_text).ratio()\n",
    "            if sim < similarity_threshold:\n",
    "                results.append((cid, old_text, new_text, \"수정\"))\n",
    "        else:\n",
    "            results.append((cid, \"\", new_text, \"신설\"))\n",
    "\n",
    "    for cid, old_text in old_clauses:\n",
    "        if cid not in new_ids:\n",
    "            results.append((cid, old_text, \"\", \"삭제\"))\n",
    "\n",
    "    return results\n",
    "\n",
    "def save_to_csv(data, path):\n",
    "    with open(path, mode=\"w\", encoding=\"utf-8-sig\", newline=\"\") as f:\n",
    "        writer = csv.writer(f)\n",
    "        writer.writerow([\"조문 ID\", \"구조문\", \"신조문\", \"변경유형\"])\n",
    "        writer.writerows(data)"
   ]
  },
  {
   "cell_type": "code",
   "execution_count": 6,
   "id": "a5c31b5c",
   "metadata": {},
   "outputs": [
    {
     "data": {
      "text/plain": [
       "[('제5조제1항', ').\\n법률 제 호\\n한국산업은행법 일부개정법률안\\n한국산업은행법 일부를 다음과 같이 개정한다.'),\n",
       " ('제5조제1항',\n",
       "  '중 “30조원”을 “60조원”으로 한다.\\n부 칙\\n이 법은 공포한 날부터 시행한다.\\n- 3 -\\n신·구조문대비표\\n현 행 개 정 안'),\n",
       " ('제5조', '(자본금) ① 한국산업은행의'),\n",
       " ('제5조',\n",
       "  '(자본금) ① --------------\\n자본금은 30조원 이내에서 정 --------60조원---------------\\n관으로 정하되, 정부가 100분의 ----------------------------\\n51 이상을 출자(出資)한다. --------------------.\\n② (생 략) ② (현행과 같음)\\n- 5 -')]"
      ]
     },
     "execution_count": 6,
     "metadata": {},
     "output_type": "execute_result"
    }
   ],
   "source": [
    "import os\n",
    "\n",
    "base_path = r\"C:\\Jimin\\cg_DeltaLaw\\data\\raw\"\n",
    "output_path = r\"C:\\Jimin\\cg_DeltaLaw\\data\\processed\"\n",
    "old_text = extract_text_from_pdf(os.path.join(base_path, \"2205429_의사국 의안과_의안원문.pdf\"))\n",
    "old_clauses = split_by_clause(old_text)\n",
    "old_clauses"
   ]
  },
  {
   "cell_type": "code",
   "execution_count": null,
   "id": "55dc9a55",
   "metadata": {},
   "outputs": [],
   "source": []
  }
 ],
 "metadata": {
  "kernelspec": {
   "display_name": "ibk",
   "language": "python",
   "name": "python3"
  },
  "language_info": {
   "codemirror_mode": {
    "name": "ipython",
    "version": 3
   },
   "file_extension": ".py",
   "mimetype": "text/x-python",
   "name": "python",
   "nbconvert_exporter": "python",
   "pygments_lexer": "ipython3",
   "version": "3.11.13"
  }
 },
 "nbformat": 4,
 "nbformat_minor": 5
}
